{
 "cells": [
  {
   "cell_type": "markdown",
   "metadata": {},
   "source": [
    "# <span style=\"color:blue\">Sample Python Client</span>\n",
    "\n",
    "**This notebook contains sample Python code that demonstrates how to interface with the AccountLedger service for a particular usecase. The code mimics how a developer or product engineer may program business logic using the API.**\n",
    "\n",
    "**Let's say we want to track loan payments and interest/late fees for a particular customer, Bob Bobberman. First, we would create a customer account for Bob with a unique customer account ID.**\n",
    "\n",
    "**We can query the service to check a list of existing account IDs to make sure we don't choose a duplicate ID for Bob's account.**"
   ]
  },
  {
   "cell_type": "code",
   "execution_count": 13,
   "metadata": {},
   "outputs": [
    {
     "data": {
      "text/plain": [
       "[{'customerAccountId': 'abcd1234'},\n",
       " {'customerAccountId': '12345'},\n",
       " {'customerAccountId': 'abc12345'}]"
      ]
     },
     "execution_count": 13,
     "metadata": {},
     "output_type": "execute_result"
    }
   ],
   "source": [
    "import requests\n",
    "\n",
    "# The AccountLedger Service is publicly hosted on an AWS EC2 instance\n",
    "PUBLIC_IP = 'http://18.212.100.191'\n",
    "\n",
    "r = requests.get(PUBLIC_IP + '/getCustomerAccountIds')\n",
    "r.json()"
   ]
  },
  {
   "cell_type": "markdown",
   "metadata": {},
   "source": [
    "**Now, let's <span style=\"color:red\">create Bob's account</span>!**"
   ]
  },
  {
   "cell_type": "code",
   "execution_count": 10,
   "metadata": {},
   "outputs": [
    {
     "name": "stdout",
     "output_type": "stream",
     "text": [
      "{'_id': '5ed44fd829979d0e93750d68',\n",
      " 'customerAccountId': 'bob123',\n",
      " 'firstName': 'Bob',\n",
      " 'lastName': 'Bobberman',\n",
      " 'ledgers': {'applicationFee': [{'balance': 0,\n",
      "                                 'timestamp': '1970-01-01T00:00:00.000Z'}],\n",
      "             'interestFee': [{'balance': 0,\n",
      "                              'timestamp': '1970-01-01T00:00:00.000Z'}],\n",
      "             'interestFeePaid': [{'balance': 0,\n",
      "                                  'timestamp': '1970-01-01T00:00:00.000Z'}],\n",
      "             'lateFees': [{'balance': 0,\n",
      "                           'timestamp': '1970-01-01T00:00:00.000Z'}],\n",
      "             'principal': [{'balance': 0,\n",
      "                            'timestamp': '1970-01-01T00:00:00.000Z'}],\n",
      "             'principalPaid': [{'balance': 0,\n",
      "                                'timestamp': '1970-01-01T00:00:00.000Z'}]}}\n"
     ]
    }
   ],
   "source": [
    "import pprint\n",
    "r = requests.post(PUBLIC_IP + '/createCustomerAccount', data = {\n",
    "    'customerAccountId': 'bob123',\n",
    "    'firstName': 'Bob',\n",
    "    'lastName': 'Bobberman'\n",
    "})\n",
    "\n",
    "pprint.pprint(r.json())"
   ]
  },
  {
   "cell_type": "code",
   "execution_count": 11,
   "metadata": {},
   "outputs": [
    {
     "data": {
      "text/plain": [
       "[{'customerAccountId': 'abcd1234'},\n",
       " {'customerAccountId': '12345'},\n",
       " {'customerAccountId': 'abc12345'},\n",
       " {'customerAccountId': 'bob123'}]"
      ]
     },
     "execution_count": 11,
     "metadata": {},
     "output_type": "execute_result"
    }
   ],
   "source": [
    "r = requests.get(PUBLIC_IP + '/getCustomerAccountIds')\n",
    "r.json()"
   ]
  },
  {
   "cell_type": "markdown",
   "metadata": {},
   "source": [
    "**Great! We've successfully created Bob's customer account. Upon creation, the AccountLedger service populates Bob's account record with default ledger balances and timestamps.**\n",
    "\n",
    "**Next, let's say Bob takes out a loan on 1/1/2020, with principal amount of \\\\$1000, and an application fee amount of \\\\$10. Let's <span style=\"color:red\">update the appropriate ledgers</span> for Bob's account.**"
   ]
  },
  {
   "cell_type": "code",
   "execution_count": 14,
   "metadata": {},
   "outputs": [
    {
     "data": {
      "text/plain": [
       "<Response [200]>"
      ]
     },
     "execution_count": 14,
     "metadata": {},
     "output_type": "execute_result"
    }
   ],
   "source": [
    "requests.post(PUBLIC_IP + '/updateLedgerBalance', data = {\n",
    "    'customerAccountId': 'bob123',\n",
    "    'ledgerName': 'principal',\n",
    "    'newBalance': 1000,\n",
    "    'timestamp': '2020-01-01'\n",
    "})\n",
    "\n",
    "requests.post(PUBLIC_IP + '/updateLedgerBalance', data = {\n",
    "    'customerAccountId': 'bob123',\n",
    "    'ledgerName': 'applicationFee',\n",
    "    'newBalance': 10,\n",
    "    'timestamp': '2020-01-01'\n",
    "})"
   ]
  },
  {
   "cell_type": "markdown",
   "metadata": {},
   "source": [
    "**For simplicity's sake, the AccountLedger service does not allow handling multiple balance changes at once but rather one after another. <span style=\"color:red\">As long as the timstamp remains the same, these update events will correspond to the same date for the given customer account.</span>**\n",
    "\n",
    "**Now that we've updated the principal and application fee, let's display Bob's <span style=\"color:red\">most recent balance</span> for all the available ledger types.**"
   ]
  },
  {
   "cell_type": "code",
   "execution_count": 16,
   "metadata": {},
   "outputs": [
    {
     "name": "stdout",
     "output_type": "stream",
     "text": [
      "{'applicationFee': 10,\n",
      " 'interestFee': 0,\n",
      " 'interestFeePaid': 0,\n",
      " 'lateFees': 0,\n",
      " 'principal': 1000,\n",
      " 'principalPaid': 0}\n"
     ]
    }
   ],
   "source": [
    "def print_current_balances():\n",
    "    r = requests.get(PUBLIC_IP + '/getCurrentLedgerBalances?customerAccountId=bob123')\n",
    "    pprint.pprint(r.json())\n",
    "    \n",
    "print_current_balances()"
   ]
  },
  {
   "cell_type": "markdown",
   "metadata": {},
   "source": [
    "**We can also compare the current balance of specific ledger types with their <span style=\"color:red\">PREVIOUS balance</span>.**"
   ]
  },
  {
   "cell_type": "code",
   "execution_count": 17,
   "metadata": {},
   "outputs": [
    {
     "name": "stdout",
     "output_type": "stream",
     "text": [
      "{'principal': 0}\n"
     ]
    }
   ],
   "source": [
    "r = requests.get(PUBLIC_IP + '/getPreviousLedgerBalance?customerAccountId=bob123&ledgerName=principal')\n",
    "pprint.pprint(r.json())"
   ]
  },
  {
   "cell_type": "markdown",
   "metadata": {},
   "source": [
    "**On 2/1/2020, an interest fee amount of \\\\$5 is added.**"
   ]
  },
  {
   "cell_type": "code",
   "execution_count": 34,
   "metadata": {},
   "outputs": [
    {
     "name": "stdout",
     "output_type": "stream",
     "text": [
      "{'applicationFee': 10,\n",
      " 'interestFee': 5,\n",
      " 'interestFeePaid': 0,\n",
      " 'lateFees': 0,\n",
      " 'principal': 1000,\n",
      " 'principalPaid': 0}\n"
     ]
    }
   ],
   "source": [
    "requests.post(PUBLIC_IP + '/updateLedgerBalance', data = {\n",
    "    'customerAccountId': 'bob123',\n",
    "    'ledgerName': 'interestFee',\n",
    "    'newBalance': 5,\n",
    "    'timestamp': '2020-02-01'\n",
    "})\n",
    "\n",
    "print_current_balances()"
   ]
  },
  {
   "cell_type": "markdown",
   "metadata": {},
   "source": [
    "**On 3/1/2020, Bob makes a payment of \\\\$100 and as a result, the interest fee is reduced to \\\\$0 and principal goes down by \\\\$95 to a balance of \\\\$905. A principal paid ledger type is added with a value of \\\\$95 and an interest fee paid ledger type is added with a value of \\\\$5.**"
   ]
  },
  {
   "cell_type": "code",
   "execution_count": 29,
   "metadata": {},
   "outputs": [
    {
     "data": {
      "text/plain": [
       "<Response [200]>"
      ]
     },
     "execution_count": 29,
     "metadata": {},
     "output_type": "execute_result"
    }
   ],
   "source": [
    "current_balances = requests.get(PUBLIC_IP + '/getCurrentLedgerBalances?customerAccountId=bob123').json()\n",
    "\n",
    "\n",
    "# Payment Business Logic\n",
    "\n",
    "payment = 100\n",
    "interest_fee = current_balances['interestFee']\n",
    "interest_fee_paid = 0\n",
    "principal = current_balances['principal']\n",
    "principal_paid = 0\n",
    "\n",
    "\n",
    "if payment > interest_fee:\n",
    "    payment -= interest_fee\n",
    "    interest_fee_paid = interest_fee\n",
    "    interest_fee = 0\n",
    "else:\n",
    "    interest_fee -= payment\n",
    "    interest_fee_paid = payment\n",
    "    payment = 0\n",
    "\n",
    "if payment > principal:\n",
    "    principal_paid = principal\n",
    "    payment -= principal\n",
    "    principal = 0\n",
    "else:\n",
    "    principal -= payment\n",
    "    principal_paid = payment\n",
    "    payment = 0\n",
    "\n",
    "# Update ledger balances upon payment\n",
    "\n",
    "requests.post(PUBLIC_IP + '/updateLedgerBalance', data = {\n",
    "    'customerAccountId': 'bob123',\n",
    "    'ledgerName': 'interestFee',\n",
    "    'newBalance': interest_fee,\n",
    "    'timestamp': '2020-03-01'\n",
    "})\n",
    "\n",
    "requests.post(PUBLIC_IP + '/updateLedgerBalance', data = {\n",
    "    'customerAccountId': 'bob123',\n",
    "    'ledgerName': 'interestFeePaid',\n",
    "    'newBalance': interest_fee_paid,\n",
    "    'timestamp': '2020-03-01'\n",
    "})\n",
    "\n",
    "requests.post(PUBLIC_IP + '/updateLedgerBalance', data = {\n",
    "    'customerAccountId': 'bob123',\n",
    "    'ledgerName': 'principal',\n",
    "    'newBalance': principal,\n",
    "    'timestamp': '2020-03-01'\n",
    "})\n",
    "\n",
    "requests.post(PUBLIC_IP + '/updateLedgerBalance', data = {\n",
    "    'customerAccountId': 'bob123',\n",
    "    'ledgerName': 'principalPaid',\n",
    "    'newBalance': principal_paid,\n",
    "    'timestamp': '2020-03-01'\n",
    "})\n"
   ]
  },
  {
   "cell_type": "markdown",
   "metadata": {},
   "source": [
    "**Bob's most updated balance should reflect the new changes.**"
   ]
  },
  {
   "cell_type": "code",
   "execution_count": 36,
   "metadata": {},
   "outputs": [
    {
     "name": "stdout",
     "output_type": "stream",
     "text": [
      "{'applicationFee': 10,\n",
      " 'interestFee': 0,\n",
      " 'interestFeePaid': 5,\n",
      " 'lateFees': 0,\n",
      " 'principal': 905,\n",
      " 'principalPaid': 95}\n"
     ]
    }
   ],
   "source": [
    "print_current_balances()"
   ]
  },
  {
   "cell_type": "markdown",
   "metadata": {},
   "source": [
    "**On 4/1/2020 the interest fee amount again goes up by \\\\$5.**"
   ]
  },
  {
   "cell_type": "code",
   "execution_count": 37,
   "metadata": {},
   "outputs": [
    {
     "name": "stdout",
     "output_type": "stream",
     "text": [
      "{'applicationFee': 10,\n",
      " 'interestFee': 5,\n",
      " 'interestFeePaid': 5,\n",
      " 'lateFees': 0,\n",
      " 'principal': 905,\n",
      " 'principalPaid': 95}\n"
     ]
    }
   ],
   "source": [
    "requests.post(PUBLIC_IP + '/updateLedgerBalance', data = {\n",
    "    'customerAccountId': 'bob123',\n",
    "    'ledgerName': 'interestFee',\n",
    "    'newBalance': 5,\n",
    "    'timestamp': '2020-04-01'\n",
    "})\n",
    "\n",
    "print_current_balances()"
   ]
  },
  {
   "cell_type": "markdown",
   "metadata": {},
   "source": [
    "**On 4/5/2020 the bank decides that the customer is late on their monthly payment and add \\\\$40 to a new ledger type late fees**"
   ]
  },
  {
   "cell_type": "code",
   "execution_count": 38,
   "metadata": {},
   "outputs": [
    {
     "name": "stdout",
     "output_type": "stream",
     "text": [
      "{'applicationFee': 10,\n",
      " 'interestFee': 5,\n",
      " 'interestFeePaid': 5,\n",
      " 'lateFees': 40,\n",
      " 'principal': 905,\n",
      " 'principalPaid': 95}\n"
     ]
    }
   ],
   "source": [
    "requests.post(PUBLIC_IP + '/updateLedgerBalance', data = {\n",
    "    'customerAccountId': 'bob123',\n",
    "    'ledgerName': 'lateFees',\n",
    "    'newBalance': 40,\n",
    "    'timestamp': '2020-04-05'\n",
    "})\n",
    "\n",
    "print_current_balances()"
   ]
  },
  {
   "cell_type": "markdown",
   "metadata": {},
   "source": [
    "**There have been quite a few transactions on Bob's account! Let's check out his <span style=\"color:red\">full account history to see the ledger changes over time</span>. The balances and timestamps should be in <span style=\"color:red\">chronological order</span> and match up to the previous updates.**"
   ]
  },
  {
   "cell_type": "code",
   "execution_count": 39,
   "metadata": {},
   "outputs": [
    {
     "name": "stdout",
     "output_type": "stream",
     "text": [
      "{'_id': '5ed44fd829979d0e93750d68',\n",
      " 'customerAccountId': 'bob123',\n",
      " 'firstName': 'Bob',\n",
      " 'lastName': 'Bobberman',\n",
      " 'ledgers': {'applicationFee': [{'balance': 0,\n",
      "                                 'timestamp': '1970-01-01T00:00:00.000Z'},\n",
      "                                {'balance': 10,\n",
      "                                 'timestamp': '2020-01-01T00:00:00.000Z'}],\n",
      "             'interestFee': [{'balance': 0,\n",
      "                              'timestamp': '1970-01-01T00:00:00.000Z'},\n",
      "                             {'balance': 5,\n",
      "                              'timestamp': '2020-02-01T00:00:00.000Z'},\n",
      "                             {'balance': 0,\n",
      "                              'timestamp': '2020-03-01T00:00:00.000Z'},\n",
      "                             {'balance': 5,\n",
      "                              'timestamp': '2020-04-01T00:00:00.000Z'}],\n",
      "             'interestFeePaid': [{'balance': 0,\n",
      "                                  'timestamp': '1970-01-01T00:00:00.000Z'},\n",
      "                                 {'balance': 5,\n",
      "                                  'timestamp': '2020-03-01T00:00:00.000Z'}],\n",
      "             'lateFees': [{'balance': 0,\n",
      "                           'timestamp': '1970-01-01T00:00:00.000Z'},\n",
      "                          {'balance': 40,\n",
      "                           'timestamp': '2020-04-05T00:00:00.000Z'}],\n",
      "             'principal': [{'balance': 0,\n",
      "                            'timestamp': '1970-01-01T00:00:00.000Z'},\n",
      "                           {'balance': 1000,\n",
      "                            'timestamp': '2020-01-01T00:00:00.000Z'},\n",
      "                           {'balance': 905,\n",
      "                            'timestamp': '2020-03-01T00:00:00.000Z'}],\n",
      "             'principalPaid': [{'balance': 0,\n",
      "                                'timestamp': '1970-01-01T00:00:00.000Z'},\n",
      "                               {'balance': 95,\n",
      "                                'timestamp': '2020-03-01T00:00:00.000Z'}]}}\n"
     ]
    }
   ],
   "source": [
    "r = requests.get(PUBLIC_IP + '/getCustomerAccountData?customerAccountId=bob123')\n",
    "pprint.pprint(r.json())"
   ]
  },
  {
   "cell_type": "markdown",
   "metadata": {},
   "source": [
    "**Let's say we want the <span style=\"color:red\">balance of a particular ledger (interest fee) on a specific date (February 1st, 2020)</span>.**"
   ]
  },
  {
   "cell_type": "code",
   "execution_count": 40,
   "metadata": {},
   "outputs": [
    {
     "name": "stdout",
     "output_type": "stream",
     "text": [
      "{'interestFee': 5, 'timestamp': '2020-02-01T00:00:00.000Z'}\n"
     ]
    }
   ],
   "source": [
    "r = requests.get(PUBLIC_IP + '/getLedgerBalanceByDate?customerAccountId=bob123&ledgerName=interestFee&timestamp=2020-02-01')\n",
    "pprint.pprint(r.json())"
   ]
  },
  {
   "cell_type": "markdown",
   "metadata": {},
   "source": [
    "**If there is no exact matches to the date, the API will return the most recent record as of that date.**"
   ]
  },
  {
   "cell_type": "code",
   "execution_count": 44,
   "metadata": {},
   "outputs": [
    {
     "name": "stdout",
     "output_type": "stream",
     "text": [
      "{'interestFee': 5, 'timestamp': '2020-04-01T00:00:00.000Z'}\n"
     ]
    }
   ],
   "source": [
    "r = requests.get(PUBLIC_IP + '/getLedgerBalanceByDate?customerAccountId=bob123&ledgerName=interestFee&timestamp=2020-05-05')\n",
    "pprint.pprint(r.json())"
   ]
  },
  {
   "cell_type": "markdown",
   "metadata": {},
   "source": [
    "**Finally, if we ever want to <span style=\"color:red\">add a NEW ledger type</span>, we can simply specify our new ledger name and corresponding balance using the same /updateLedgerBalance endpoint! This makes the system very easy to expand.**"
   ]
  },
  {
   "cell_type": "code",
   "execution_count": 43,
   "metadata": {},
   "outputs": [
    {
     "name": "stdout",
     "output_type": "stream",
     "text": [
      "{'applicationFee': 10,\n",
      " 'interestFee': 5,\n",
      " 'interestFeePaid': 5,\n",
      " 'lateFees': 40,\n",
      " 'principal': 905,\n",
      " 'principalPaid': 95,\n",
      " 'securityDeposit': 5005}\n"
     ]
    }
   ],
   "source": [
    "requests.post(PUBLIC_IP + '/updateLedgerBalance', data = {\n",
    "    'customerAccountId': 'bob123',\n",
    "    'ledgerName': 'securityDeposit',\n",
    "    'newBalance': 5005.50,\n",
    "    'timestamp': '2020-05-31'\n",
    "})\n",
    "\n",
    "print_current_balances()"
   ]
  }
 ],
 "metadata": {
  "kernelspec": {
   "display_name": "Python 3",
   "language": "python",
   "name": "python3"
  },
  "language_info": {
   "codemirror_mode": {
    "name": "ipython",
    "version": 3
   },
   "file_extension": ".py",
   "mimetype": "text/x-python",
   "name": "python",
   "nbconvert_exporter": "python",
   "pygments_lexer": "ipython3",
   "version": "3.7.4"
  }
 },
 "nbformat": 4,
 "nbformat_minor": 2
}
